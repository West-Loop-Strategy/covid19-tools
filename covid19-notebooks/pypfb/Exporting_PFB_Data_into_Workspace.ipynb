{
 "cells": [
  {
   "cell_type": "markdown",
   "metadata": {},
   "source": [
    "# Tutorial for Using PyPFB Library to Export Data into Workspace"
   ]
  },
  {
   "cell_type": "code",
   "execution_count": 6,
   "metadata": {},
   "outputs": [],
   "source": [
    "from pfb import reader\n",
    "from pfb.exporters import tsv\n",
    "import pandas as pd\n",
    "import seaborn as sns\n",
    "import matplotlib.pyplot as plt"
   ]
  },
  {
   "source": [
    "### Convert PFB to tsv(s)"
   ],
   "cell_type": "markdown",
   "metadata": {}
  },
  {
   "cell_type": "code",
   "execution_count": 2,
   "metadata": {},
   "outputs": [
    {
     "output_type": "stream",
     "name": "stderr",
     "text": [
      "\u001b[34mCreating \u001b[0m\u001b[37mtsvs/submitted_aligned_reads.tsv\u001b[0m\n",
      "\u001b[34mCreating \u001b[0m\u001b[37mtsvs/geriatric_depression_scale.tsv\u001b[0m\n",
      "\u001b[34mCreating \u001b[0m\u001b[37mtsvs/exon_expression_file.tsv\u001b[0m\n",
      "\u001b[34mCreating \u001b[0m\u001b[37mtsvs/derived_image_file.tsv\u001b[0m\n",
      "\u001b[34mCreating \u001b[0m\u001b[37mtsvs/rt_pcr_profiling.tsv\u001b[0m\n",
      "\u001b[34mCreating \u001b[0m\u001b[37mtsvs/recall_and_recognition.tsv\u001b[0m\n",
      "\u001b[34mCreating \u001b[0m\u001b[37mtsvs/clinical_checkup.tsv\u001b[0m\n",
      "\u001b[34mCreating \u001b[0m\u001b[37mtsvs/imaging_file.tsv\u001b[0m\n",
      "\u001b[34mCreating \u001b[0m\u001b[37mtsvs/keyword.tsv\u001b[0m\n",
      "\u001b[34mCreating \u001b[0m\u001b[37mtsvs/acknowledgement.tsv\u001b[0m\n",
      "\u001b[34mCreating \u001b[0m\u001b[37mtsvs/imaging_fmri_exam.tsv\u001b[0m\n",
      "\u001b[34mCreating \u001b[0m\u001b[37mtsvs/clinical_global_impression.tsv\u001b[0m\n",
      "\u001b[34mCreating \u001b[0m\u001b[37mtsvs/adverse_event.tsv\u001b[0m\n",
      "\u001b[34mCreating \u001b[0m\u001b[37mtsvs/mass_cytometry_image.tsv\u001b[0m\n",
      "\u001b[34mCreating \u001b[0m\u001b[37mtsvs/total_functional_capacity.tsv\u001b[0m\n",
      "\u001b[34mCreating \u001b[0m\u001b[37mtsvs/upenn_smell_test.tsv\u001b[0m\n",
      "\u001b[34mCreating \u001b[0m\u001b[37mtsvs/surgery.tsv\u001b[0m\n",
      "\u001b[34mCreating \u001b[0m\u001b[37mtsvs/quality_of_life_scale.tsv\u001b[0m\n",
      "\u001b[34mCreating \u001b[0m\u001b[37mtsvs/study.tsv\u001b[0m\n",
      "\u001b[34mCreating \u001b[0m\u001b[37mtsvs/digit_span_test.tsv\u001b[0m\n",
      "\u001b[34mCreating \u001b[0m\u001b[37mtsvs/self_report_questionnaire.tsv\u001b[0m\n",
      "\u001b[34mCreating \u001b[0m\u001b[37mtsvs/submitted_unaligned_reads.tsv\u001b[0m\n",
      "\u001b[34mCreating \u001b[0m\u001b[37mtsvs/snp_array_workflow.tsv\u001b[0m\n",
      "\u001b[34mCreating \u001b[0m\u001b[37mtsvs/neurological_exam.tsv\u001b[0m\n",
      "\u001b[34mCreating \u001b[0m\u001b[37mtsvs/aliquot.tsv\u001b[0m\n",
      "\u001b[34mCreating \u001b[0m\u001b[37mtsvs/mass_spectrometry.tsv\u001b[0m\n",
      "\u001b[34mCreating \u001b[0m\u001b[37mtsvs/demographic.tsv\u001b[0m\n",
      "\u001b[34mCreating \u001b[0m\u001b[37mtsvs/family_history.tsv\u001b[0m\n",
      "\u001b[34mCreating \u001b[0m\u001b[37mtsvs/visit.tsv\u001b[0m\n",
      "\u001b[34mCreating \u001b[0m\u001b[37mtsvs/incident.tsv\u001b[0m\n",
      "\u001b[34mCreating \u001b[0m\u001b[37mtsvs/alignment_workflow.tsv\u001b[0m\n",
      "\u001b[34mCreating \u001b[0m\u001b[37mtsvs/imaging_ct_exam.tsv\u001b[0m\n",
      "\u001b[34mCreating \u001b[0m\u001b[37mtsvs/followup.tsv\u001b[0m\n",
      "\u001b[34mCreating \u001b[0m\u001b[37mtsvs/parkinsons_disease_features.tsv\u001b[0m\n",
      "\u001b[34mCreating \u001b[0m\u001b[37mtsvs/state_trait_anxiety_inventory.tsv\u001b[0m\n",
      "\u001b[34mCreating \u001b[0m\u001b[37mtsvs/project.tsv\u001b[0m\n",
      "\u001b[34mCreating \u001b[0m\u001b[37mtsvs/expression_array_file.tsv\u001b[0m\n",
      "\u001b[34mCreating \u001b[0m\u001b[37mtsvs/ces_depression_scale.tsv\u001b[0m\n",
      "\u001b[34mCreating \u001b[0m\u001b[37mtsvs/reproductive_health.tsv\u001b[0m\n",
      "\u001b[34mCreating \u001b[0m\u001b[37mtsvs/enrollment.tsv\u001b[0m\n",
      "\u001b[34mCreating \u001b[0m\u001b[37mtsvs/clinical_diagnosis_management.tsv\u001b[0m\n",
      "\u001b[34mCreating \u001b[0m\u001b[37mtsvs/injury_or_illness.tsv\u001b[0m\n",
      "\u001b[34mCreating \u001b[0m\u001b[37mtsvs/submitted_methylation.tsv\u001b[0m\n",
      "\u001b[34mCreating \u001b[0m\u001b[37mtsvs/hopkins_verbal_learning_test.tsv\u001b[0m\n",
      "\u001b[34mCreating \u001b[0m\u001b[37mtsvs/clinical_cognitive_categorization.tsv\u001b[0m\n",
      "\u001b[34mCreating \u001b[0m\u001b[37mtsvs/diagnostic_check_sheet_crf.tsv\u001b[0m\n",
      "\u001b[34mCreating \u001b[0m\u001b[37mtsvs/purdue_pegboard_test.tsv\u001b[0m\n",
      "\u001b[34mCreating \u001b[0m\u001b[37mtsvs/submitted_expression_array.tsv\u001b[0m\n",
      "\u001b[34mCreating \u001b[0m\u001b[37mtsvs/endpoint.tsv\u001b[0m\n",
      "\u001b[34mCreating \u001b[0m\u001b[37mtsvs/mass_cytometry_file.tsv\u001b[0m\n",
      "\u001b[34mCreating \u001b[0m\u001b[37mtsvs/aggregated_snp_array.tsv\u001b[0m\n",
      "\u001b[34mCreating \u001b[0m\u001b[37mtsvs/read_group.tsv\u001b[0m\n",
      "\u001b[34mCreating \u001b[0m\u001b[37mtsvs/modified_schwab_england_scale.tsv\u001b[0m\n",
      "\u001b[34mCreating \u001b[0m\u001b[37mtsvs/physical_exam.tsv\u001b[0m\n",
      "\u001b[34mCreating \u001b[0m\u001b[37mtsvs/imaging_report_file.tsv\u001b[0m\n",
      "\u001b[34mCreating \u001b[0m\u001b[37mtsvs/expression_result.tsv\u001b[0m\n",
      "\u001b[34mCreating \u001b[0m\u001b[37mtsvs/rem_behavior_disorder.tsv\u001b[0m\n",
      "\u001b[34mCreating \u001b[0m\u001b[37mtsvs/srq_for_pd.tsv\u001b[0m\n",
      "\u001b[34mCreating \u001b[0m\u001b[37mtsvs/sensor_checkup.tsv\u001b[0m\n",
      "\u001b[34mCreating \u001b[0m\u001b[37mtsvs/tap_pd_test.tsv\u001b[0m\n",
      "\u001b[34mCreating \u001b[0m\u001b[37mtsvs/microarray_profiling.tsv\u001b[0m\n",
      "\u001b[34mCreating \u001b[0m\u001b[37mtsvs/fluorescent_microscopy.tsv\u001b[0m\n",
      "\u001b[34mCreating \u001b[0m\u001b[37mtsvs/immunoassay.tsv\u001b[0m\n",
      "\u001b[34mCreating \u001b[0m\u001b[37mtsvs/imaging_mri_exam.tsv\u001b[0m\n",
      "\u001b[34mCreating \u001b[0m\u001b[37mtsvs/webster_step_second_test.tsv\u001b[0m\n",
      "\u001b[34mCreating \u001b[0m\u001b[37mtsvs/frontal_assessment_battery.tsv\u001b[0m\n",
      "\u001b[34mCreating \u001b[0m\u001b[37mtsvs/symbol_digit_modalities_test.tsv\u001b[0m\n",
      "\u001b[34mCreating \u001b[0m\u001b[37mtsvs/modified_rankin_scale.tsv\u001b[0m\n",
      "\u001b[34mCreating \u001b[0m\u001b[37mtsvs/slide_image.tsv\u001b[0m\n",
      "\u001b[34mCreating \u001b[0m\u001b[37mtsvs/new_dot_test.tsv\u001b[0m\n",
      "\u001b[34mCreating \u001b[0m\u001b[37mtsvs/submitted_snp_array.tsv\u001b[0m\n",
      "\u001b[34mCreating \u001b[0m\u001b[37mtsvs/gene_expression_file.tsv\u001b[0m\n",
      "\u001b[34mCreating \u001b[0m\u001b[37mtsvs/imaging_spect_exam.tsv\u001b[0m\n",
      "\u001b[34mCreating \u001b[0m\u001b[37mtsvs/imaging_result.tsv\u001b[0m\n",
      "\u001b[34mCreating \u001b[0m\u001b[37mtsvs/genotyping_result.tsv\u001b[0m\n",
      "\u001b[34mCreating \u001b[0m\u001b[37mtsvs/mini_mental_status_exam.tsv\u001b[0m\n",
      "\u001b[34mCreating \u001b[0m\u001b[37mtsvs/read_group_qc.tsv\u001b[0m\n",
      "\u001b[34mCreating \u001b[0m\u001b[37mtsvs/simple_germline_variation.tsv\u001b[0m\n",
      "\u001b[34mCreating \u001b[0m\u001b[37mtsvs/exposure.tsv\u001b[0m\n",
      "\u001b[34mCreating \u001b[0m\u001b[37mtsvs/hamilton_depression_rating.tsv\u001b[0m\n",
      "\u001b[34mCreating \u001b[0m\u001b[37mtsvs/nuclear_magnetic_resonance.tsv\u001b[0m\n",
      "\u001b[34mCreating \u001b[0m\u001b[37mtsvs/symptomatic_therapy.tsv\u001b[0m\n",
      "\u001b[34mCreating \u001b[0m\u001b[37mtsvs/sample.tsv\u001b[0m\n",
      "\u001b[34mCreating \u001b[0m\u001b[37mtsvs/app_checkup.tsv\u001b[0m\n",
      "\u001b[34mCreating \u001b[0m\u001b[37mtsvs/germline_mutation_calling_workflow.tsv\u001b[0m\n",
      "\u001b[34mCreating \u001b[0m\u001b[37mtsvs/copy_number_workflow.tsv\u001b[0m\n",
      "\u001b[34mCreating \u001b[0m\u001b[37mtsvs/scales_for_outcomes_in_pd.tsv\u001b[0m\n",
      "\u001b[34mCreating \u001b[0m\u001b[37mtsvs/epworth_sleepiness_scale.tsv\u001b[0m\n",
      "\u001b[34mCreating \u001b[0m\u001b[37mtsvs/aligned_reads_index.tsv\u001b[0m\n",
      "\u001b[34mCreating \u001b[0m\u001b[37mtsvs/protocol.tsv\u001b[0m\n",
      "\u001b[34mCreating \u001b[0m\u001b[37mtsvs/imaging_analysis_workflow.tsv\u001b[0m\n",
      "\u001b[34mCreating \u001b[0m\u001b[37mtsvs/copy_number_variation.tsv\u001b[0m\n",
      "\u001b[34mCreating \u001b[0m\u001b[37mtsvs/sequencing_assay.tsv\u001b[0m\n",
      "\u001b[34mCreating \u001b[0m\u001b[37mtsvs/beck_depression_inventory.tsv\u001b[0m\n",
      "\u001b[34mCreating \u001b[0m\u001b[37mtsvs/blindness_evaluation.tsv\u001b[0m\n",
      "\u001b[34mCreating \u001b[0m\u001b[37mtsvs/transcript_expression_file.tsv\u001b[0m\n",
      "\u001b[34mCreating \u001b[0m\u001b[37mtsvs/clinical_lab_test.tsv\u001b[0m\n",
      "\u001b[34mCreating \u001b[0m\u001b[37mtsvs/imaging_pet_exam.tsv\u001b[0m\n",
      "\u001b[34mCreating \u001b[0m\u001b[37mtsvs/rna_expression_workflow.tsv\u001b[0m\n",
      "\u001b[34mCreating \u001b[0m\u001b[37mtsvs/publication.tsv\u001b[0m\n",
      "\u001b[34mCreating \u001b[0m\u001b[37mtsvs/rem_sleep_behavior.tsv\u001b[0m\n",
      "\u001b[34mCreating \u001b[0m\u001b[37mtsvs/medication.tsv\u001b[0m\n",
      "\u001b[34mCreating \u001b[0m\u001b[37mtsvs/montreal_cognitive_functional_test.tsv\u001b[0m\n",
      "\u001b[34mCreating \u001b[0m\u001b[37mtsvs/benton_judgement_line_orientation.tsv\u001b[0m\n",
      "\u001b[34mCreating \u001b[0m\u001b[37mtsvs/short_form_health_survey.tsv\u001b[0m\n",
      "\u001b[34mCreating \u001b[0m\u001b[37mtsvs/imaging_xray_exam.tsv\u001b[0m\n",
      "\u001b[34mCreating \u001b[0m\u001b[37mtsvs/chromatography.tsv\u001b[0m\n",
      "\u001b[34mCreating \u001b[0m\u001b[37mtsvs/core_metadata_collection.tsv\u001b[0m\n",
      "\u001b[34mCreating \u001b[0m\u001b[37mtsvs/unified_parkinsons_disease_rating.tsv\u001b[0m\n",
      "\u001b[34mCreating \u001b[0m\u001b[37mtsvs/letter_number_sequencing.tsv\u001b[0m\n",
      "\u001b[34mCreating \u001b[0m\u001b[37mtsvs/compliance.tsv\u001b[0m\n",
      "\u001b[34mCreating \u001b[0m\u001b[37mtsvs/snp_array_variation.tsv\u001b[0m\n",
      "\u001b[34mCreating \u001b[0m\u001b[37mtsvs/derived_checkup.tsv\u001b[0m\n",
      "\u001b[34mCreating \u001b[0m\u001b[37mtsvs/cell_image.tsv\u001b[0m\n",
      "\u001b[34mCreating \u001b[0m\u001b[37mtsvs/contrived_expectation.tsv\u001b[0m\n",
      "\u001b[34mCreating \u001b[0m\u001b[37mtsvs/assessment_of_depression.tsv\u001b[0m\n",
      "\u001b[34mCreating \u001b[0m\u001b[37mtsvs/neuropsychological_assessment.tsv\u001b[0m\n",
      "\u001b[34mCreating \u001b[0m\u001b[37mtsvs/allergy.tsv\u001b[0m\n",
      "\u001b[34mCreating \u001b[0m\u001b[37mtsvs/diagnosis.tsv\u001b[0m\n",
      "\u001b[34mCreating \u001b[0m\u001b[37mtsvs/mds_unified_pd_rating.tsv\u001b[0m\n",
      "\u001b[34mCreating \u001b[0m\u001b[37mtsvs/assess_need_symptomatic_therapy.tsv\u001b[0m\n",
      "\u001b[34mCreating \u001b[0m\u001b[37mtsvs/imaging_ultrasonography_exam.tsv\u001b[0m\n",
      "\u001b[34mCreating \u001b[0m\u001b[37mtsvs/impulsive_compulsive_disorder.tsv\u001b[0m\n",
      "\u001b[34mCreating \u001b[0m\u001b[37mtsvs/case.tsv\u001b[0m\n",
      "\u001b[34mCreating \u001b[0m\u001b[37mtsvs/expression_array_workflow.tsv\u001b[0m\n",
      "\u001b[34mCreating \u001b[0m\u001b[37mtsvs/metabolomics_result.tsv\u001b[0m\n",
      "\u001b[34mCreating \u001b[0m\u001b[37mtsvs/physical_activity_scale.tsv\u001b[0m\n",
      "\u001b[34mCreating \u001b[0m\u001b[37mtsvs/diagnostic_features_in_pd.tsv\u001b[0m\n",
      "\u001b[34mCreating \u001b[0m\u001b[37mtsvs/symptom.tsv\u001b[0m\n",
      "\u001b[34mCreating \u001b[0m\u001b[37mtsvs/treatment.tsv\u001b[0m\n",
      "\u001b[34mCreating \u001b[0m\u001b[37mtsvs/enzyme_activity_assay.tsv\u001b[0m\n",
      "\u001b[34mCreating \u001b[0m\u001b[37mtsvs/odd_man_out_test.tsv\u001b[0m\n"
     ]
    },
    {
     "output_type": "execute_result",
     "data": {
      "text/plain": [
       "133"
      ]
     },
     "metadata": {},
     "execution_count": 2
    }
   ],
   "source": [
    "r = reader.PFBReader(\"example.avro\")\n",
    "r = r.__enter__()\n",
    "tsv._to_tsv(r, \"tsvs\", {})"
   ]
  },
  {
   "cell_type": "code",
   "execution_count": 3,
   "metadata": {},
   "outputs": [],
   "source": [
    "# Read into dataframe\n",
    "df = pd.read_csv('tsvs/surgery.tsv', sep='\\t')"
   ]
  },
  {
   "cell_type": "code",
   "execution_count": 28,
   "metadata": {},
   "outputs": [
    {
     "output_type": "execute_result",
     "data": {
      "text/plain": [
       "      type      surgery_location_other  pd_surgery_location_stn  \\\n",
       "0  surgery          ridibund_ashlaring                     True   \n",
       "1  surgery  graniteware_autocombustion                    False   \n",
       "2  surgery          amman_levotartaric                     True   \n",
       "3  surgery       ditriglyphic_squabble                    False   \n",
       "4  surgery       saccharine_miscreator                     True   \n",
       "\n",
       "   pd_surgery_location_not_applicable       surgery_location  \\\n",
       "0                                True         Not Applicable   \n",
       "1                               False                Unknown   \n",
       "2                               False  Globus Pallidus (GPi)   \n",
       "3                                True  Globus Pallidus (GPi)   \n",
       "4                               False         Not Applicable   \n",
       "\n",
       "   updated_datetime  created_datetime  major_surgery_with_general_anesthesia  \\\n",
       "0               NaN               NaN                                  False   \n",
       "1               NaN               NaN                                   True   \n",
       "2               NaN               NaN                                   True   \n",
       "3               NaN               NaN                                   True   \n",
       "4               NaN               NaN                                   True   \n",
       "\n",
       "   surgery_for_pd  pd_surgery_location_gpi      state side_of_surgery_for_pd  \\\n",
       "0            True                     True  validated         Not Applicable   \n",
       "1            True                    False  validated              Bilateral   \n",
       "2            True                    False  validated                Unknown   \n",
       "3           False                     True  validated                   Left   \n",
       "4           False                    False  validated                Unknown   \n",
       "\n",
       "                            submitter_id project_id  \\\n",
       "0             surgery_specialism_hatress   DEV-test   \n",
       "1               surgery_becut_binaphthyl   DEV-test   \n",
       "2  surgery_streamful_postimpressionistic   DEV-test   \n",
       "3         surgery_Austrophile_unascended   DEV-test   \n",
       "4     surgery_nondiscriminatory_earwiggy   DEV-test   \n",
       "\n",
       "   pd_surgery_location_unknown            type_of_surgery_for_pd  \\\n",
       "0                         True                    Other, Specify   \n",
       "1                        False                    Other, Specify   \n",
       "2                        False      DBS (Deep Brain Stimulation)   \n",
       "3                         True      DBS (Deep Brain Stimulation)   \n",
       "4                         True  Levodopa Intestinal Gel Infusion   \n",
       "\n",
       "                                      id                    cases.id  \\\n",
       "0             surgery_specialism_hatress  case_pantological_chickell   \n",
       "1               surgery_becut_binaphthyl      case_ravishedly_bemuck   \n",
       "2  surgery_streamful_postimpressionistic      case_bricken_inclusory   \n",
       "3         surgery_Austrophile_unascended        case_coelin_imposure   \n",
       "4     surgery_nondiscriminatory_earwiggy    case_bilabiate_lipolysis   \n",
       "\n",
       "           cases.submitter_id  \n",
       "0  case_pantological_chickell  \n",
       "1      case_ravishedly_bemuck  \n",
       "2      case_bricken_inclusory  \n",
       "3        case_coelin_imposure  \n",
       "4    case_bilabiate_lipolysis  "
      ],
      "text/html": "<div>\n<style scoped>\n    .dataframe tbody tr th:only-of-type {\n        vertical-align: middle;\n    }\n\n    .dataframe tbody tr th {\n        vertical-align: top;\n    }\n\n    .dataframe thead th {\n        text-align: right;\n    }\n</style>\n<table border=\"1\" class=\"dataframe\">\n  <thead>\n    <tr style=\"text-align: right;\">\n      <th></th>\n      <th>type</th>\n      <th>surgery_location_other</th>\n      <th>pd_surgery_location_stn</th>\n      <th>pd_surgery_location_not_applicable</th>\n      <th>surgery_location</th>\n      <th>updated_datetime</th>\n      <th>created_datetime</th>\n      <th>major_surgery_with_general_anesthesia</th>\n      <th>surgery_for_pd</th>\n      <th>pd_surgery_location_gpi</th>\n      <th>state</th>\n      <th>side_of_surgery_for_pd</th>\n      <th>submitter_id</th>\n      <th>project_id</th>\n      <th>pd_surgery_location_unknown</th>\n      <th>type_of_surgery_for_pd</th>\n      <th>id</th>\n      <th>cases.id</th>\n      <th>cases.submitter_id</th>\n    </tr>\n  </thead>\n  <tbody>\n    <tr>\n      <th>0</th>\n      <td>surgery</td>\n      <td>ridibund_ashlaring</td>\n      <td>True</td>\n      <td>True</td>\n      <td>Not Applicable</td>\n      <td>NaN</td>\n      <td>NaN</td>\n      <td>False</td>\n      <td>True</td>\n      <td>True</td>\n      <td>validated</td>\n      <td>Not Applicable</td>\n      <td>surgery_specialism_hatress</td>\n      <td>DEV-test</td>\n      <td>True</td>\n      <td>Other, Specify</td>\n      <td>surgery_specialism_hatress</td>\n      <td>case_pantological_chickell</td>\n      <td>case_pantological_chickell</td>\n    </tr>\n    <tr>\n      <th>1</th>\n      <td>surgery</td>\n      <td>graniteware_autocombustion</td>\n      <td>False</td>\n      <td>False</td>\n      <td>Unknown</td>\n      <td>NaN</td>\n      <td>NaN</td>\n      <td>True</td>\n      <td>True</td>\n      <td>False</td>\n      <td>validated</td>\n      <td>Bilateral</td>\n      <td>surgery_becut_binaphthyl</td>\n      <td>DEV-test</td>\n      <td>False</td>\n      <td>Other, Specify</td>\n      <td>surgery_becut_binaphthyl</td>\n      <td>case_ravishedly_bemuck</td>\n      <td>case_ravishedly_bemuck</td>\n    </tr>\n    <tr>\n      <th>2</th>\n      <td>surgery</td>\n      <td>amman_levotartaric</td>\n      <td>True</td>\n      <td>False</td>\n      <td>Globus Pallidus (GPi)</td>\n      <td>NaN</td>\n      <td>NaN</td>\n      <td>True</td>\n      <td>True</td>\n      <td>False</td>\n      <td>validated</td>\n      <td>Unknown</td>\n      <td>surgery_streamful_postimpressionistic</td>\n      <td>DEV-test</td>\n      <td>False</td>\n      <td>DBS (Deep Brain Stimulation)</td>\n      <td>surgery_streamful_postimpressionistic</td>\n      <td>case_bricken_inclusory</td>\n      <td>case_bricken_inclusory</td>\n    </tr>\n    <tr>\n      <th>3</th>\n      <td>surgery</td>\n      <td>ditriglyphic_squabble</td>\n      <td>False</td>\n      <td>True</td>\n      <td>Globus Pallidus (GPi)</td>\n      <td>NaN</td>\n      <td>NaN</td>\n      <td>True</td>\n      <td>False</td>\n      <td>True</td>\n      <td>validated</td>\n      <td>Left</td>\n      <td>surgery_Austrophile_unascended</td>\n      <td>DEV-test</td>\n      <td>True</td>\n      <td>DBS (Deep Brain Stimulation)</td>\n      <td>surgery_Austrophile_unascended</td>\n      <td>case_coelin_imposure</td>\n      <td>case_coelin_imposure</td>\n    </tr>\n    <tr>\n      <th>4</th>\n      <td>surgery</td>\n      <td>saccharine_miscreator</td>\n      <td>True</td>\n      <td>False</td>\n      <td>Not Applicable</td>\n      <td>NaN</td>\n      <td>NaN</td>\n      <td>True</td>\n      <td>False</td>\n      <td>False</td>\n      <td>validated</td>\n      <td>Unknown</td>\n      <td>surgery_nondiscriminatory_earwiggy</td>\n      <td>DEV-test</td>\n      <td>True</td>\n      <td>Levodopa Intestinal Gel Infusion</td>\n      <td>surgery_nondiscriminatory_earwiggy</td>\n      <td>case_bilabiate_lipolysis</td>\n      <td>case_bilabiate_lipolysis</td>\n    </tr>\n  </tbody>\n</table>\n</div>"
     },
     "metadata": {},
     "execution_count": 28
    }
   ],
   "source": [
    "df.head()"
   ]
  },
  {
   "cell_type": "code",
   "execution_count": 29,
   "metadata": {},
   "outputs": [
    {
     "output_type": "stream",
     "name": "stdout",
     "text": [
      "<class 'pandas.core.frame.DataFrame'>\nRangeIndex: 100 entries, 0 to 99\nData columns (total 19 columns):\n #   Column                                 Non-Null Count  Dtype  \n---  ------                                 --------------  -----  \n 0   type                                   100 non-null    object \n 1   surgery_location_other                 100 non-null    object \n 2   pd_surgery_location_stn                100 non-null    bool   \n 3   pd_surgery_location_not_applicable     100 non-null    bool   \n 4   surgery_location                       100 non-null    object \n 5   updated_datetime                       0 non-null      float64\n 6   created_datetime                       0 non-null      float64\n 7   major_surgery_with_general_anesthesia  100 non-null    bool   \n 8   surgery_for_pd                         100 non-null    bool   \n 9   pd_surgery_location_gpi                100 non-null    bool   \n 10  state                                  100 non-null    object \n 11  side_of_surgery_for_pd                 100 non-null    object \n 12  submitter_id                           100 non-null    object \n 13  project_id                             100 non-null    object \n 14  pd_surgery_location_unknown            100 non-null    bool   \n 15  type_of_surgery_for_pd                 100 non-null    object \n 16  id                                     100 non-null    object \n 17  cases.id                               100 non-null    object \n 18  cases.submitter_id                     100 non-null    object \ndtypes: bool(6), float64(2), object(11)\nmemory usage: 10.9+ KB\n"
     ]
    }
   ],
   "source": [
    "df.info()"
   ]
  },
  {
   "cell_type": "code",
   "execution_count": null,
   "metadata": {},
   "outputs": [],
   "source": [
    "# Visualize some data\n",
    "plt.figure(figsize=(10,5))\n",
    "sns.countplot(x='type_of_surgery_for_pd', hue='major_surgery_with_general_anesthesia', data=df, orient='v')\n",
    "plt.xticks(\n",
    "    rotation=45, \n",
    "    horizontalalignment='right',\n",
    "    fontweight='light',\n",
    "    fontsize='x-large'  \n",
    ")"
   ]
  },
  {
   "cell_type": "code",
   "execution_count": 7,
   "metadata": {},
   "outputs": [],
   "source": [
    "# clean up\n",
    "!rm -r tsvs"
   ]
  },
  {
   "cell_type": "code",
   "execution_count": null,
   "metadata": {},
   "outputs": [],
   "source": []
  }
 ],
 "metadata": {
  "kernelspec": {
   "name": "python368jvsc74a57bd0a7c01cfcb4f793620b8eadc6fdafadd6630e83b70aae2849d81a85f628e9c711",
   "display_name": "Python 3.6.8 64-bit ('3.6.8': pyenv)",
   "language": "python"
  },
  "language_info": {
   "codemirror_mode": {
    "name": "ipython",
    "version": 3
   },
   "file_extension": ".py",
   "mimetype": "text/x-python",
   "name": "python",
   "nbconvert_exporter": "python",
   "pygments_lexer": "ipython3",
   "version": "3.6.8-final"
  }
 },
 "nbformat": 4,
 "nbformat_minor": 4
}
